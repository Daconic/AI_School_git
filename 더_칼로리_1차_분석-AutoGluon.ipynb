{
 "cells": [
  {
   "cell_type": "markdown",
   "id": "96e84871",
   "metadata": {},
   "source": [
    "# 라이브러리 불러오기"
   ]
  },
  {
   "cell_type": "code",
   "execution_count": 99,
   "id": "13dc6f9d",
   "metadata": {},
   "outputs": [],
   "source": [
    "from glob import glob \n",
    "import pandas as pd \n",
    "import numpy as np\n",
    "import seaborn as sns\n",
    "import matplotlib.pyplot as plt\n",
    "import plotly.express as px \n",
    "import folium"
   ]
  },
  {
   "cell_type": "markdown",
   "id": "5b864f8d",
   "metadata": {},
   "source": [
    "# 데이터 불러오기"
   ]
  },
  {
   "cell_type": "code",
   "execution_count": 100,
   "id": "3c6543ac",
   "metadata": {},
   "outputs": [
    {
     "data": {
      "text/plain": [
       "['data/sample_submission.csv', 'data/test.csv', 'data/train.csv']"
      ]
     },
     "execution_count": 100,
     "metadata": {},
     "output_type": "execute_result"
    }
   ],
   "source": [
    "glob('data/*.csv')"
   ]
  },
  {
   "cell_type": "code",
   "execution_count": 101,
   "id": "f70a5ad4",
   "metadata": {},
   "outputs": [],
   "source": [
    "train = pd.read_csv(glob('data/*.csv')[2])\n",
    "test = pd.read_csv(glob('data/*.csv')[1])\n",
    "submission = pd.read_csv(glob('data/*.csv')[0])"
   ]
  },
  {
   "cell_type": "markdown",
   "id": "72041c6a",
   "metadata": {},
   "source": [
    "# 데이터 살펴보기"
   ]
  },
  {
   "cell_type": "markdown",
   "id": "9f6a5c8b",
   "metadata": {},
   "source": [
    "칼럼 설명\n",
    "- ID : 샘플 별 고유 id\n",
    "- Exercise_Duration  : 운동 시간(분)\n",
    "- Body_Temperature(F) : 체온\n",
    "- BPM : 심박수\n",
    "- Height(Feet) : 키(피트)\n",
    "- Height(Remainder_Inches) : 키(피트 계산 후 더해야 할 키)\n",
    "- Weight(lb) : 몸무게(파운드)\n",
    "- Weight_Status : 체중 상태\n",
    "- Gender : 성별\n",
    "- Age : 나이\n",
    "- Calories_Burned : 칼로리 소모량(목표 예측값)"
   ]
  },
  {
   "cell_type": "code",
   "execution_count": 102,
   "id": "d31cc821",
   "metadata": {},
   "outputs": [
    {
     "data": {
      "text/html": [
       "<div>\n",
       "<style scoped>\n",
       "    .dataframe tbody tr th:only-of-type {\n",
       "        vertical-align: middle;\n",
       "    }\n",
       "\n",
       "    .dataframe tbody tr th {\n",
       "        vertical-align: top;\n",
       "    }\n",
       "\n",
       "    .dataframe thead th {\n",
       "        text-align: right;\n",
       "    }\n",
       "</style>\n",
       "<table border=\"1\" class=\"dataframe\">\n",
       "  <thead>\n",
       "    <tr style=\"text-align: right;\">\n",
       "      <th></th>\n",
       "      <th>ID</th>\n",
       "      <th>Exercise_Duration</th>\n",
       "      <th>Body_Temperature(F)</th>\n",
       "      <th>BPM</th>\n",
       "      <th>Height(Feet)</th>\n",
       "      <th>Height(Remainder_Inches)</th>\n",
       "      <th>Weight(lb)</th>\n",
       "      <th>Weight_Status</th>\n",
       "      <th>Gender</th>\n",
       "      <th>Age</th>\n",
       "      <th>Calories_Burned</th>\n",
       "    </tr>\n",
       "  </thead>\n",
       "  <tbody>\n",
       "    <tr>\n",
       "      <th>0</th>\n",
       "      <td>TRAIN_0000</td>\n",
       "      <td>26.0</td>\n",
       "      <td>105.6</td>\n",
       "      <td>107.0</td>\n",
       "      <td>5.0</td>\n",
       "      <td>9.0</td>\n",
       "      <td>154.3</td>\n",
       "      <td>Normal Weight</td>\n",
       "      <td>F</td>\n",
       "      <td>45</td>\n",
       "      <td>166.0</td>\n",
       "    </tr>\n",
       "    <tr>\n",
       "      <th>1</th>\n",
       "      <td>TRAIN_0001</td>\n",
       "      <td>7.0</td>\n",
       "      <td>103.3</td>\n",
       "      <td>88.0</td>\n",
       "      <td>6.0</td>\n",
       "      <td>6.0</td>\n",
       "      <td>224.9</td>\n",
       "      <td>Overweight</td>\n",
       "      <td>M</td>\n",
       "      <td>50</td>\n",
       "      <td>33.0</td>\n",
       "    </tr>\n",
       "    <tr>\n",
       "      <th>2</th>\n",
       "      <td>TRAIN_0002</td>\n",
       "      <td>7.0</td>\n",
       "      <td>103.3</td>\n",
       "      <td>86.0</td>\n",
       "      <td>6.0</td>\n",
       "      <td>3.0</td>\n",
       "      <td>218.3</td>\n",
       "      <td>Overweight</td>\n",
       "      <td>M</td>\n",
       "      <td>29</td>\n",
       "      <td>23.0</td>\n",
       "    </tr>\n",
       "    <tr>\n",
       "      <th>3</th>\n",
       "      <td>TRAIN_0003</td>\n",
       "      <td>17.0</td>\n",
       "      <td>104.0</td>\n",
       "      <td>99.0</td>\n",
       "      <td>5.0</td>\n",
       "      <td>6.0</td>\n",
       "      <td>147.7</td>\n",
       "      <td>Normal Weight</td>\n",
       "      <td>F</td>\n",
       "      <td>33</td>\n",
       "      <td>91.0</td>\n",
       "    </tr>\n",
       "    <tr>\n",
       "      <th>4</th>\n",
       "      <td>TRAIN_0004</td>\n",
       "      <td>9.0</td>\n",
       "      <td>102.7</td>\n",
       "      <td>88.0</td>\n",
       "      <td>5.0</td>\n",
       "      <td>10.0</td>\n",
       "      <td>169.8</td>\n",
       "      <td>Normal Weight</td>\n",
       "      <td>M</td>\n",
       "      <td>38</td>\n",
       "      <td>32.0</td>\n",
       "    </tr>\n",
       "  </tbody>\n",
       "</table>\n",
       "</div>"
      ],
      "text/plain": [
       "           ID  Exercise_Duration  Body_Temperature(F)    BPM  Height(Feet)  \\\n",
       "0  TRAIN_0000               26.0                105.6  107.0           5.0   \n",
       "1  TRAIN_0001                7.0                103.3   88.0           6.0   \n",
       "2  TRAIN_0002                7.0                103.3   86.0           6.0   \n",
       "3  TRAIN_0003               17.0                104.0   99.0           5.0   \n",
       "4  TRAIN_0004                9.0                102.7   88.0           5.0   \n",
       "\n",
       "   Height(Remainder_Inches)  Weight(lb)  Weight_Status Gender  Age  \\\n",
       "0                       9.0       154.3  Normal Weight      F   45   \n",
       "1                       6.0       224.9     Overweight      M   50   \n",
       "2                       3.0       218.3     Overweight      M   29   \n",
       "3                       6.0       147.7  Normal Weight      F   33   \n",
       "4                      10.0       169.8  Normal Weight      M   38   \n",
       "\n",
       "   Calories_Burned  \n",
       "0            166.0  \n",
       "1             33.0  \n",
       "2             23.0  \n",
       "3             91.0  \n",
       "4             32.0  "
      ]
     },
     "execution_count": 102,
     "metadata": {},
     "output_type": "execute_result"
    }
   ],
   "source": [
    "train.head()"
   ]
  },
  {
   "cell_type": "markdown",
   "id": "52410d51",
   "metadata": {},
   "source": [
    "## 결측치 확인"
   ]
  },
  {
   "cell_type": "code",
   "execution_count": 103,
   "id": "dfcf00d3",
   "metadata": {},
   "outputs": [
    {
     "data": {
      "text/plain": [
       "ID                          0\n",
       "Exercise_Duration           0\n",
       "Body_Temperature(F)         0\n",
       "BPM                         0\n",
       "Height(Feet)                0\n",
       "Height(Remainder_Inches)    0\n",
       "Weight(lb)                  0\n",
       "Weight_Status               0\n",
       "Gender                      0\n",
       "Age                         0\n",
       "Calories_Burned             0\n",
       "dtype: int64"
      ]
     },
     "execution_count": 103,
     "metadata": {},
     "output_type": "execute_result"
    }
   ],
   "source": [
    "# 결측치 없음 \n",
    "train.isnull().sum()"
   ]
  },
  {
   "cell_type": "code",
   "execution_count": 104,
   "id": "b921ab70",
   "metadata": {},
   "outputs": [
    {
     "data": {
      "text/plain": [
       "ID                          0\n",
       "Exercise_Duration           0\n",
       "Body_Temperature(F)         0\n",
       "BPM                         0\n",
       "Height(Feet)                0\n",
       "Height(Remainder_Inches)    0\n",
       "Weight(lb)                  0\n",
       "Weight_Status               0\n",
       "Gender                      0\n",
       "Age                         0\n",
       "dtype: int64"
      ]
     },
     "execution_count": 104,
     "metadata": {},
     "output_type": "execute_result"
    }
   ],
   "source": [
    "# 결측치 없음 \n",
    "test.isnull().sum()"
   ]
  },
  {
   "cell_type": "markdown",
   "id": "ae04cb66",
   "metadata": {},
   "source": [
    "## 이상치 확인"
   ]
  },
  {
   "cell_type": "code",
   "execution_count": 105,
   "id": "fcb3d927",
   "metadata": {},
   "outputs": [
    {
     "data": {
      "text/html": [
       "<div>\n",
       "<style scoped>\n",
       "    .dataframe tbody tr th:only-of-type {\n",
       "        vertical-align: middle;\n",
       "    }\n",
       "\n",
       "    .dataframe tbody tr th {\n",
       "        vertical-align: top;\n",
       "    }\n",
       "\n",
       "    .dataframe thead th {\n",
       "        text-align: right;\n",
       "    }\n",
       "</style>\n",
       "<table border=\"1\" class=\"dataframe\">\n",
       "  <thead>\n",
       "    <tr style=\"text-align: right;\">\n",
       "      <th></th>\n",
       "      <th>Exercise_Duration</th>\n",
       "      <th>Body_Temperature(F)</th>\n",
       "      <th>BPM</th>\n",
       "      <th>Height(Feet)</th>\n",
       "      <th>Height(Remainder_Inches)</th>\n",
       "      <th>Weight(lb)</th>\n",
       "      <th>Age</th>\n",
       "      <th>Calories_Burned</th>\n",
       "    </tr>\n",
       "  </thead>\n",
       "  <tbody>\n",
       "    <tr>\n",
       "      <th>count</th>\n",
       "      <td>7500.0000</td>\n",
       "      <td>7500.000000</td>\n",
       "      <td>7500.000000</td>\n",
       "      <td>7500.000000</td>\n",
       "      <td>7500.000000</td>\n",
       "      <td>7500.000000</td>\n",
       "      <td>7500.000000</td>\n",
       "      <td>7500.000000</td>\n",
       "    </tr>\n",
       "    <tr>\n",
       "      <th>mean</th>\n",
       "      <td>15.5012</td>\n",
       "      <td>104.033573</td>\n",
       "      <td>95.498133</td>\n",
       "      <td>5.248800</td>\n",
       "      <td>5.717600</td>\n",
       "      <td>165.361187</td>\n",
       "      <td>42.636000</td>\n",
       "      <td>89.373467</td>\n",
       "    </tr>\n",
       "    <tr>\n",
       "      <th>std</th>\n",
       "      <td>8.3553</td>\n",
       "      <td>1.412845</td>\n",
       "      <td>9.587331</td>\n",
       "      <td>0.556663</td>\n",
       "      <td>3.497315</td>\n",
       "      <td>33.308136</td>\n",
       "      <td>16.883188</td>\n",
       "      <td>62.817086</td>\n",
       "    </tr>\n",
       "    <tr>\n",
       "      <th>min</th>\n",
       "      <td>1.0000</td>\n",
       "      <td>98.800000</td>\n",
       "      <td>69.000000</td>\n",
       "      <td>4.000000</td>\n",
       "      <td>0.000000</td>\n",
       "      <td>79.400000</td>\n",
       "      <td>20.000000</td>\n",
       "      <td>1.000000</td>\n",
       "    </tr>\n",
       "    <tr>\n",
       "      <th>25%</th>\n",
       "      <td>8.0000</td>\n",
       "      <td>103.300000</td>\n",
       "      <td>88.000000</td>\n",
       "      <td>5.000000</td>\n",
       "      <td>3.000000</td>\n",
       "      <td>138.900000</td>\n",
       "      <td>28.000000</td>\n",
       "      <td>35.000000</td>\n",
       "    </tr>\n",
       "    <tr>\n",
       "      <th>50%</th>\n",
       "      <td>15.0000</td>\n",
       "      <td>104.400000</td>\n",
       "      <td>95.000000</td>\n",
       "      <td>5.000000</td>\n",
       "      <td>6.000000</td>\n",
       "      <td>163.100000</td>\n",
       "      <td>39.000000</td>\n",
       "      <td>77.000000</td>\n",
       "    </tr>\n",
       "    <tr>\n",
       "      <th>75%</th>\n",
       "      <td>23.0000</td>\n",
       "      <td>105.100000</td>\n",
       "      <td>103.000000</td>\n",
       "      <td>6.000000</td>\n",
       "      <td>9.000000</td>\n",
       "      <td>191.800000</td>\n",
       "      <td>56.000000</td>\n",
       "      <td>138.000000</td>\n",
       "    </tr>\n",
       "    <tr>\n",
       "      <th>max</th>\n",
       "      <td>30.0000</td>\n",
       "      <td>106.700000</td>\n",
       "      <td>128.000000</td>\n",
       "      <td>7.000000</td>\n",
       "      <td>12.000000</td>\n",
       "      <td>291.000000</td>\n",
       "      <td>79.000000</td>\n",
       "      <td>300.000000</td>\n",
       "    </tr>\n",
       "  </tbody>\n",
       "</table>\n",
       "</div>"
      ],
      "text/plain": [
       "       Exercise_Duration  Body_Temperature(F)          BPM  Height(Feet)  \\\n",
       "count          7500.0000          7500.000000  7500.000000   7500.000000   \n",
       "mean             15.5012           104.033573    95.498133      5.248800   \n",
       "std               8.3553             1.412845     9.587331      0.556663   \n",
       "min               1.0000            98.800000    69.000000      4.000000   \n",
       "25%               8.0000           103.300000    88.000000      5.000000   \n",
       "50%              15.0000           104.400000    95.000000      5.000000   \n",
       "75%              23.0000           105.100000   103.000000      6.000000   \n",
       "max              30.0000           106.700000   128.000000      7.000000   \n",
       "\n",
       "       Height(Remainder_Inches)   Weight(lb)          Age  Calories_Burned  \n",
       "count               7500.000000  7500.000000  7500.000000      7500.000000  \n",
       "mean                   5.717600   165.361187    42.636000        89.373467  \n",
       "std                    3.497315    33.308136    16.883188        62.817086  \n",
       "min                    0.000000    79.400000    20.000000         1.000000  \n",
       "25%                    3.000000   138.900000    28.000000        35.000000  \n",
       "50%                    6.000000   163.100000    39.000000        77.000000  \n",
       "75%                    9.000000   191.800000    56.000000       138.000000  \n",
       "max                   12.000000   291.000000    79.000000       300.000000  "
      ]
     },
     "execution_count": 105,
     "metadata": {},
     "output_type": "execute_result"
    }
   ],
   "source": [
    "train.describe()"
   ]
  },
  {
   "cell_type": "code",
   "execution_count": 106,
   "id": "7944a48f",
   "metadata": {},
   "outputs": [
    {
     "data": {
      "text/html": [
       "<div>\n",
       "<style scoped>\n",
       "    .dataframe tbody tr th:only-of-type {\n",
       "        vertical-align: middle;\n",
       "    }\n",
       "\n",
       "    .dataframe tbody tr th {\n",
       "        vertical-align: top;\n",
       "    }\n",
       "\n",
       "    .dataframe thead th {\n",
       "        text-align: right;\n",
       "    }\n",
       "</style>\n",
       "<table border=\"1\" class=\"dataframe\">\n",
       "  <thead>\n",
       "    <tr style=\"text-align: right;\">\n",
       "      <th></th>\n",
       "      <th>ID</th>\n",
       "      <th>Weight_Status</th>\n",
       "      <th>Gender</th>\n",
       "    </tr>\n",
       "  </thead>\n",
       "  <tbody>\n",
       "    <tr>\n",
       "      <th>count</th>\n",
       "      <td>7500</td>\n",
       "      <td>7500</td>\n",
       "      <td>7500</td>\n",
       "    </tr>\n",
       "    <tr>\n",
       "      <th>unique</th>\n",
       "      <td>7500</td>\n",
       "      <td>3</td>\n",
       "      <td>2</td>\n",
       "    </tr>\n",
       "    <tr>\n",
       "      <th>top</th>\n",
       "      <td>TRAIN_6870</td>\n",
       "      <td>Normal Weight</td>\n",
       "      <td>F</td>\n",
       "    </tr>\n",
       "    <tr>\n",
       "      <th>freq</th>\n",
       "      <td>1</td>\n",
       "      <td>4681</td>\n",
       "      <td>3769</td>\n",
       "    </tr>\n",
       "  </tbody>\n",
       "</table>\n",
       "</div>"
      ],
      "text/plain": [
       "                ID  Weight_Status Gender\n",
       "count         7500           7500   7500\n",
       "unique        7500              3      2\n",
       "top     TRAIN_6870  Normal Weight      F\n",
       "freq             1           4681   3769"
      ]
     },
     "execution_count": 106,
     "metadata": {},
     "output_type": "execute_result"
    }
   ],
   "source": [
    "train.describe(include='O')"
   ]
  },
  {
   "cell_type": "code",
   "execution_count": 107,
   "id": "c4d47a3a",
   "metadata": {},
   "outputs": [
    {
     "name": "stderr",
     "output_type": "stream",
     "text": [
      "/usr/local/lib/python3.8/dist-packages/pandas/plotting/_matplotlib/tools.py:331: MatplotlibDeprecationWarning:\n",
      "\n",
      "\n",
      "The is_first_col function was deprecated in Matplotlib 3.4 and will be removed two minor releases later. Use ax.get_subplotspec().is_first_col() instead.\n",
      "\n"
     ]
    },
    {
     "data": {
      "text/plain": [
       "array([[<AxesSubplot:title={'center':'Exercise_Duration'}>,\n",
       "        <AxesSubplot:title={'center':'Body_Temperature(F)'}>,\n",
       "        <AxesSubplot:title={'center':'BPM'}>],\n",
       "       [<AxesSubplot:title={'center':'Height(Feet)'}>,\n",
       "        <AxesSubplot:title={'center':'Height(Remainder_Inches)'}>,\n",
       "        <AxesSubplot:title={'center':'Weight(lb)'}>],\n",
       "       [<AxesSubplot:title={'center':'Age'}>,\n",
       "        <AxesSubplot:title={'center':'Calories_Burned'}>, <AxesSubplot:>]],\n",
       "      dtype=object)"
      ]
     },
     "execution_count": 107,
     "metadata": {},
     "output_type": "execute_result"
    },
    {
     "data": {
      "image/png": "[encoded data removed]",
      "text/plain": [
       "<Figure size 432x288 with 9 Axes>"
      ]
     },
     "metadata": {
      "needs_background": "light"
     },
     "output_type": "display_data"
    }
   ],
   "source": [
    "train.hist(bins=100)"
   ]
  },
  {
   "cell_type": "code",
   "execution_count": 108,
   "id": "205926e3",
   "metadata": {},
   "outputs": [
    {
     "data": {
      "text/plain": [
       "<AxesSubplot:>"
      ]
     },
     "execution_count": 108,
     "metadata": {},
     "output_type": "execute_result"
    },
    {
     "data": {
      "image/png": "[encoded data removed]",
      "text/plain": [
       "<Figure size 432x288 with 1 Axes>"
      ]
     },
     "metadata": {
      "needs_background": "light"
     },
     "output_type": "display_data"
    }
   ],
   "source": [
    "# Obese가 현저히 적음, Pd.get_dummies로 인코딩을 해주자 \n",
    "train['Weight_Status'].value_counts().plot.bar(rot=0)"
   ]
  },
  {
   "cell_type": "markdown",
   "id": "f95be7f9",
   "metadata": {},
   "source": [
    "# 피처 엔지니어링"
   ]
  },
  {
   "cell_type": "code",
   "execution_count": 109,
   "id": "26205f23",
   "metadata": {},
   "outputs": [
    {
     "data": {
      "text/html": [
       "<div>\n",
       "<style scoped>\n",
       "    .dataframe tbody tr th:only-of-type {\n",
       "        vertical-align: middle;\n",
       "    }\n",
       "\n",
       "    .dataframe tbody tr th {\n",
       "        vertical-align: top;\n",
       "    }\n",
       "\n",
       "    .dataframe thead th {\n",
       "        text-align: right;\n",
       "    }\n",
       "</style>\n",
       "<table border=\"1\" class=\"dataframe\">\n",
       "  <thead>\n",
       "    <tr style=\"text-align: right;\">\n",
       "      <th></th>\n",
       "      <th>ID</th>\n",
       "      <th>Exercise_Duration</th>\n",
       "      <th>Body_Temperature(F)</th>\n",
       "      <th>BPM</th>\n",
       "      <th>Height(Feet)</th>\n",
       "      <th>Height(Remainder_Inches)</th>\n",
       "      <th>Weight(lb)</th>\n",
       "      <th>Weight_Status</th>\n",
       "      <th>Gender</th>\n",
       "      <th>Age</th>\n",
       "      <th>Calories_Burned</th>\n",
       "    </tr>\n",
       "  </thead>\n",
       "  <tbody>\n",
       "    <tr>\n",
       "      <th>0</th>\n",
       "      <td>TRAIN_0000</td>\n",
       "      <td>26.0</td>\n",
       "      <td>105.6</td>\n",
       "      <td>107.0</td>\n",
       "      <td>5.0</td>\n",
       "      <td>9.0</td>\n",
       "      <td>154.3</td>\n",
       "      <td>Normal Weight</td>\n",
       "      <td>F</td>\n",
       "      <td>45</td>\n",
       "      <td>166.0</td>\n",
       "    </tr>\n",
       "    <tr>\n",
       "      <th>1</th>\n",
       "      <td>TRAIN_0001</td>\n",
       "      <td>7.0</td>\n",
       "      <td>103.3</td>\n",
       "      <td>88.0</td>\n",
       "      <td>6.0</td>\n",
       "      <td>6.0</td>\n",
       "      <td>224.9</td>\n",
       "      <td>Overweight</td>\n",
       "      <td>M</td>\n",
       "      <td>50</td>\n",
       "      <td>33.0</td>\n",
       "    </tr>\n",
       "  </tbody>\n",
       "</table>\n",
       "</div>"
      ],
      "text/plain": [
       "           ID  Exercise_Duration  Body_Temperature(F)    BPM  Height(Feet)  \\\n",
       "0  TRAIN_0000               26.0                105.6  107.0           5.0   \n",
       "1  TRAIN_0001                7.0                103.3   88.0           6.0   \n",
       "\n",
       "   Height(Remainder_Inches)  Weight(lb)  Weight_Status Gender  Age  \\\n",
       "0                       9.0       154.3  Normal Weight      F   45   \n",
       "1                       6.0       224.9     Overweight      M   50   \n",
       "\n",
       "   Calories_Burned  \n",
       "0            166.0  \n",
       "1             33.0  "
      ]
     },
     "execution_count": 109,
     "metadata": {},
     "output_type": "execute_result"
    }
   ],
   "source": [
    "train.head(2)"
   ]
  },
  {
   "cell_type": "code",
   "execution_count": 110,
   "id": "cce7d8b3",
   "metadata": {},
   "outputs": [],
   "source": [
    "# ft, inch column을 하나의 cm 컬럼으로 변경해줌 \n",
    "train['Height(cm)'] = train['Height(Feet)'] * 30.48 + train['Height(Remainder_Inches)']*2.54\n",
    "test['Height(cm)'] = test['Height(Feet)'] * 30.48 + test['Height(Remainder_Inches)']*2.54"
   ]
  },
  {
   "cell_type": "code",
   "execution_count": 111,
   "id": "3c613bec",
   "metadata": {},
   "outputs": [],
   "source": [
    "# 기존 ft, inch column은 삭제 \n",
    "train = train.drop(columns=['Height(Feet)','Height(Remainder_Inches)'])\n",
    "test = test.drop(columns=['Height(Feet)','Height(Remainder_Inches)'])"
   ]
  },
  {
   "cell_type": "code",
   "execution_count": 112,
   "id": "5c57087e",
   "metadata": {},
   "outputs": [],
   "source": [
    "test = test.set_index('ID')\n",
    "train = train.set_index('ID')"
   ]
  },
  {
   "cell_type": "code",
   "execution_count": 113,
   "id": "6b61da71",
   "metadata": {},
   "outputs": [],
   "source": [
    "train = pd.get_dummies(train)\n",
    "test = pd.get_dummies(test)"
   ]
  },
  {
   "cell_type": "code",
   "execution_count": 114,
   "id": "f182cd5d",
   "metadata": {},
   "outputs": [
    {
     "data": {
      "text/html": [
       "<div>\n",
       "<style scoped>\n",
       "    .dataframe tbody tr th:only-of-type {\n",
       "        vertical-align: middle;\n",
       "    }\n",
       "\n",
       "    .dataframe tbody tr th {\n",
       "        vertical-align: top;\n",
       "    }\n",
       "\n",
       "    .dataframe thead th {\n",
       "        text-align: right;\n",
       "    }\n",
       "</style>\n",
       "<table border=\"1\" class=\"dataframe\">\n",
       "  <thead>\n",
       "    <tr style=\"text-align: right;\">\n",
       "      <th></th>\n",
       "      <th>Exercise_Duration</th>\n",
       "      <th>Body_Temperature(F)</th>\n",
       "      <th>BPM</th>\n",
       "      <th>Weight(lb)</th>\n",
       "      <th>Age</th>\n",
       "      <th>Calories_Burned</th>\n",
       "      <th>Height(cm)</th>\n",
       "      <th>Weight_Status_Normal Weight</th>\n",
       "      <th>Weight_Status_Obese</th>\n",
       "      <th>Weight_Status_Overweight</th>\n",
       "      <th>Gender_F</th>\n",
       "      <th>Gender_M</th>\n",
       "    </tr>\n",
       "    <tr>\n",
       "      <th>ID</th>\n",
       "      <th></th>\n",
       "      <th></th>\n",
       "      <th></th>\n",
       "      <th></th>\n",
       "      <th></th>\n",
       "      <th></th>\n",
       "      <th></th>\n",
       "      <th></th>\n",
       "      <th></th>\n",
       "      <th></th>\n",
       "      <th></th>\n",
       "      <th></th>\n",
       "    </tr>\n",
       "  </thead>\n",
       "  <tbody>\n",
       "    <tr>\n",
       "      <th>TRAIN_0000</th>\n",
       "      <td>26.0</td>\n",
       "      <td>105.6</td>\n",
       "      <td>107.0</td>\n",
       "      <td>154.3</td>\n",
       "      <td>45</td>\n",
       "      <td>166.0</td>\n",
       "      <td>175.26</td>\n",
       "      <td>1</td>\n",
       "      <td>0</td>\n",
       "      <td>0</td>\n",
       "      <td>1</td>\n",
       "      <td>0</td>\n",
       "    </tr>\n",
       "    <tr>\n",
       "      <th>TRAIN_0001</th>\n",
       "      <td>7.0</td>\n",
       "      <td>103.3</td>\n",
       "      <td>88.0</td>\n",
       "      <td>224.9</td>\n",
       "      <td>50</td>\n",
       "      <td>33.0</td>\n",
       "      <td>198.12</td>\n",
       "      <td>0</td>\n",
       "      <td>0</td>\n",
       "      <td>1</td>\n",
       "      <td>0</td>\n",
       "      <td>1</td>\n",
       "    </tr>\n",
       "  </tbody>\n",
       "</table>\n",
       "</div>"
      ],
      "text/plain": [
       "            Exercise_Duration  Body_Temperature(F)    BPM  Weight(lb)  Age  \\\n",
       "ID                                                                           \n",
       "TRAIN_0000               26.0                105.6  107.0       154.3   45   \n",
       "TRAIN_0001                7.0                103.3   88.0       224.9   50   \n",
       "\n",
       "            Calories_Burned  Height(cm)  Weight_Status_Normal Weight  \\\n",
       "ID                                                                     \n",
       "TRAIN_0000            166.0      175.26                            1   \n",
       "TRAIN_0001             33.0      198.12                            0   \n",
       "\n",
       "            Weight_Status_Obese  Weight_Status_Overweight  Gender_F  Gender_M  \n",
       "ID                                                                             \n",
       "TRAIN_0000                    0                         0         1         0  \n",
       "TRAIN_0001                    0                         1         0         1  "
      ]
     },
     "execution_count": 114,
     "metadata": {},
     "output_type": "execute_result"
    }
   ],
   "source": [
    "train.head(2)"
   ]
  },
  {
   "cell_type": "code",
   "execution_count": 115,
   "id": "3b928286",
   "metadata": {},
   "outputs": [
    {
     "data": {
      "text/html": [
       "<div>\n",
       "<style scoped>\n",
       "    .dataframe tbody tr th:only-of-type {\n",
       "        vertical-align: middle;\n",
       "    }\n",
       "\n",
       "    .dataframe tbody tr th {\n",
       "        vertical-align: top;\n",
       "    }\n",
       "\n",
       "    .dataframe thead th {\n",
       "        text-align: right;\n",
       "    }\n",
       "</style>\n",
       "<table border=\"1\" class=\"dataframe\">\n",
       "  <thead>\n",
       "    <tr style=\"text-align: right;\">\n",
       "      <th></th>\n",
       "      <th>Exercise_Duration</th>\n",
       "      <th>Body_Temperature(F)</th>\n",
       "      <th>BPM</th>\n",
       "      <th>Weight(lb)</th>\n",
       "      <th>Age</th>\n",
       "      <th>Height(cm)</th>\n",
       "      <th>Weight_Status_Normal Weight</th>\n",
       "      <th>Weight_Status_Obese</th>\n",
       "      <th>Weight_Status_Overweight</th>\n",
       "      <th>Gender_F</th>\n",
       "      <th>Gender_M</th>\n",
       "    </tr>\n",
       "    <tr>\n",
       "      <th>ID</th>\n",
       "      <th></th>\n",
       "      <th></th>\n",
       "      <th></th>\n",
       "      <th></th>\n",
       "      <th></th>\n",
       "      <th></th>\n",
       "      <th></th>\n",
       "      <th></th>\n",
       "      <th></th>\n",
       "      <th></th>\n",
       "      <th></th>\n",
       "    </tr>\n",
       "  </thead>\n",
       "  <tbody>\n",
       "    <tr>\n",
       "      <th>TEST_0000</th>\n",
       "      <td>26.0</td>\n",
       "      <td>105.1</td>\n",
       "      <td>107.0</td>\n",
       "      <td>114.6</td>\n",
       "      <td>45</td>\n",
       "      <td>154.94</td>\n",
       "      <td>1</td>\n",
       "      <td>0</td>\n",
       "      <td>0</td>\n",
       "      <td>1</td>\n",
       "      <td>0</td>\n",
       "    </tr>\n",
       "    <tr>\n",
       "      <th>TEST_0001</th>\n",
       "      <td>29.0</td>\n",
       "      <td>104.9</td>\n",
       "      <td>111.0</td>\n",
       "      <td>198.4</td>\n",
       "      <td>21</td>\n",
       "      <td>187.96</td>\n",
       "      <td>0</td>\n",
       "      <td>0</td>\n",
       "      <td>1</td>\n",
       "      <td>0</td>\n",
       "      <td>1</td>\n",
       "    </tr>\n",
       "  </tbody>\n",
       "</table>\n",
       "</div>"
      ],
      "text/plain": [
       "           Exercise_Duration  Body_Temperature(F)    BPM  Weight(lb)  Age  \\\n",
       "ID                                                                          \n",
       "TEST_0000               26.0                105.1  107.0       114.6   45   \n",
       "TEST_0001               29.0                104.9  111.0       198.4   21   \n",
       "\n",
       "           Height(cm)  Weight_Status_Normal Weight  Weight_Status_Obese  \\\n",
       "ID                                                                        \n",
       "TEST_0000      154.94                            1                    0   \n",
       "TEST_0001      187.96                            0                    0   \n",
       "\n",
       "           Weight_Status_Overweight  Gender_F  Gender_M  \n",
       "ID                                                       \n",
       "TEST_0000                         0         1         0  \n",
       "TEST_0001                         1         0         1  "
      ]
     },
     "execution_count": 115,
     "metadata": {},
     "output_type": "execute_result"
    }
   ],
   "source": [
    "test.head(2)"
   ]
  },
  {
   "cell_type": "markdown",
   "id": "a41ea185",
   "metadata": {},
   "source": [
    "## 머신러닝 (Auto-Gluon) "
   ]
  },
  {
   "cell_type": "code",
   "execution_count": 70,
   "id": "6f21460d",
   "metadata": {},
   "outputs": [],
   "source": [
    "# !pip install autogluon"
   ]
  },
  {
   "cell_type": "code",
   "execution_count": 71,
   "id": "3f5b5db4",
   "metadata": {},
   "outputs": [
    {
     "name": "stderr",
     "output_type": "stream",
     "text": [
      "No path specified. Models will be saved in: \"AutogluonModels/ag-20230413_112947/\"\n",
      "Beginning AutoGluon training ...\n",
      "AutoGluon will save models to \"AutogluonModels/ag-20230413_112947/\"\n",
      "AutoGluon Version:  0.7.0\n",
      "Python Version:     3.8.10\n",
      "Operating System:   Linux\n",
      "Platform Machine:   x86_64\n",
      "Platform Version:   #211-Ubuntu SMP Thu Nov 24 18:16:04 UTC 2022\n",
      "Train Data Rows:    7500\n",
      "Train Data Columns: 11\n",
      "Label Column: Calories_Burned\n",
      "Preprocessing data ...\n",
      "Using Feature Generators to preprocess the data ...\n",
      "Fitting AutoMLPipelineFeatureGenerator...\n",
      "\tAvailable Memory:                    3631.09 MB\n",
      "\tTrain Data (Original)  Memory Usage: 0.4 MB (0.0% of available memory)\n",
      "\tInferring data type of each feature based on column values. Set feature_metadata_in to manually specify special dtypes of the features.\n",
      "\tStage 1 Generators:\n",
      "\t\tFitting AsTypeFeatureGenerator...\n",
      "\t\t\tNote: Converting 5 features to boolean dtype as they only contain 2 unique values.\n",
      "\tStage 2 Generators:\n",
      "\t\tFitting FillNaFeatureGenerator...\n",
      "\tStage 3 Generators:\n",
      "\t\tFitting IdentityFeatureGenerator...\n",
      "\tStage 4 Generators:\n",
      "\t\tFitting DropUniqueFeatureGenerator...\n",
      "\tTypes of features in original data (raw dtype, special dtypes):\n",
      "\t\t('float', []) : 5 | ['Exercise_Duration', 'Body_Temperature(F)', 'BPM', 'Weight(lb)', 'Height(cm)']\n",
      "\t\t('int', [])   : 6 | ['Age', 'Weight_Status_Normal Weight', 'Weight_Status_Obese', 'Weight_Status_Overweight', 'Gender_F', ...]\n",
      "\tTypes of features in processed data (raw dtype, special dtypes):\n",
      "\t\t('float', [])     : 5 | ['Exercise_Duration', 'Body_Temperature(F)', 'BPM', 'Weight(lb)', 'Height(cm)']\n",
      "\t\t('int', [])       : 1 | ['Age']\n",
      "\t\t('int', ['bool']) : 5 | ['Weight_Status_Normal Weight', 'Weight_Status_Obese', 'Weight_Status_Overweight', 'Gender_F', 'Gender_M']\n",
      "\t0.1s = Fit runtime\n",
      "\t11 features in original data used to generate 11 features in processed data.\n",
      "\tTrain Data (Processed) Memory Usage: 0.4 MB (0.0% of available memory)\n",
      "Data preprocessing and feature engineering runtime = 0.1s ...\n",
      "AutoGluon will gauge predictive performance using evaluation metric: 'root_mean_squared_error'\n",
      "\tThis metric's sign has been flipped to adhere to being higher_is_better. The metric score can be multiplied by -1 to get the metric value.\n",
      "\tTo change this, specify the eval_metric parameter of Predictor()\n",
      "Automatically generating train/validation split with holdout_frac=0.1, Train Rows: 6750, Val Rows: 750\n",
      "Fitting 11 L1 models ...\n",
      "Fitting model: KNeighborsUnif ...\n",
      "\t-9.1535\t = Validation score   (-root_mean_squared_error)\n",
      "\t1.27s\t = Training   runtime\n",
      "\t0.01s\t = Validation runtime\n",
      "Fitting model: KNeighborsDist ...\n",
      "\t-8.8831\t = Validation score   (-root_mean_squared_error)\n",
      "\t1.18s\t = Training   runtime\n",
      "\t0.01s\t = Validation runtime\n",
      "Fitting model: LightGBMXT ...\n",
      "\tWarning: Exception caused LightGBMXT to fail during training... Skipping this model.\n",
      "\t\t\n",
      "Detailed Traceback:\n",
      "Traceback (most recent call last):\n",
      "  File \"/home/work/.local/lib/python3.8/site-packages/autogluon/core/trainer/abstract_trainer.py\", line 1502, in _train_and_save\n",
      "    model = self._train_single(X, y, model, X_val, y_val, total_resources=total_resources, **model_fit_kwargs)\n",
      "  File \"/home/work/.local/lib/python3.8/site-packages/autogluon/core/trainer/abstract_trainer.py\", line 1447, in _train_single\n",
      "    model = model.fit(X=X, y=y, X_val=X_val, y_val=y_val, total_resources=total_resources, **model_fit_kwargs)\n",
      "  File \"/home/work/.local/lib/python3.8/site-packages/autogluon/core/models/abstract/abstract_model.py\", line 695, in fit\n",
      "    kwargs = self._preprocess_fit_args(**kwargs)\n",
      "  File \"/home/work/.local/lib/python3.8/site-packages/autogluon/core/models/abstract/abstract_model.py\", line 428, in _preprocess_fit_args\n",
      "    kwargs = self._preprocess_fit_resources(**kwargs)\n",
      "  File \"/home/work/.local/lib/python3.8/site-packages/autogluon/core/models/abstract/abstract_model.py\", line 593, in _preprocess_fit_resources\n",
      "    assert system_num_cpus >= num_cpus\n",
      "AssertionError\n",
      "Fitting model: LightGBM ...\n",
      "\tWarning: Exception caused LightGBM to fail during training... Skipping this model.\n",
      "\t\t\n",
      "Detailed Traceback:\n",
      "Traceback (most recent call last):\n",
      "  File \"/home/work/.local/lib/python3.8/site-packages/autogluon/core/trainer/abstract_trainer.py\", line 1502, in _train_and_save\n",
      "    model = self._train_single(X, y, model, X_val, y_val, total_resources=total_resources, **model_fit_kwargs)\n",
      "  File \"/home/work/.local/lib/python3.8/site-packages/autogluon/core/trainer/abstract_trainer.py\", line 1447, in _train_single\n",
      "    model = model.fit(X=X, y=y, X_val=X_val, y_val=y_val, total_resources=total_resources, **model_fit_kwargs)\n",
      "  File \"/home/work/.local/lib/python3.8/site-packages/autogluon/core/models/abstract/abstract_model.py\", line 695, in fit\n",
      "    kwargs = self._preprocess_fit_args(**kwargs)\n",
      "  File \"/home/work/.local/lib/python3.8/site-packages/autogluon/core/models/abstract/abstract_model.py\", line 428, in _preprocess_fit_args\n",
      "    kwargs = self._preprocess_fit_resources(**kwargs)\n",
      "  File \"/home/work/.local/lib/python3.8/site-packages/autogluon/core/models/abstract/abstract_model.py\", line 593, in _preprocess_fit_resources\n",
      "    assert system_num_cpus >= num_cpus\n",
      "AssertionError\n",
      "Fitting model: RandomForestMSE ...\n",
      "\t-3.3575\t = Validation score   (-root_mean_squared_error)\n",
      "\t3.89s\t = Training   runtime\n",
      "\t0.11s\t = Validation runtime\n",
      "Fitting model: CatBoost ...\n",
      "\tWarning: Exception caused CatBoost to fail during training... Skipping this model.\n",
      "\t\t\n",
      "Detailed Traceback:\n",
      "Traceback (most recent call last):\n",
      "  File \"/home/work/.local/lib/python3.8/site-packages/autogluon/core/trainer/abstract_trainer.py\", line 1502, in _train_and_save\n",
      "    model = self._train_single(X, y, model, X_val, y_val, total_resources=total_resources, **model_fit_kwargs)\n",
      "  File \"/home/work/.local/lib/python3.8/site-packages/autogluon/core/trainer/abstract_trainer.py\", line 1447, in _train_single\n",
      "    model = model.fit(X=X, y=y, X_val=X_val, y_val=y_val, total_resources=total_resources, **model_fit_kwargs)\n",
      "  File \"/home/work/.local/lib/python3.8/site-packages/autogluon/core/models/abstract/abstract_model.py\", line 695, in fit\n",
      "    kwargs = self._preprocess_fit_args(**kwargs)\n",
      "  File \"/home/work/.local/lib/python3.8/site-packages/autogluon/core/models/abstract/abstract_model.py\", line 428, in _preprocess_fit_args\n",
      "    kwargs = self._preprocess_fit_resources(**kwargs)\n",
      "  File \"/home/work/.local/lib/python3.8/site-packages/autogluon/core/models/abstract/abstract_model.py\", line 593, in _preprocess_fit_resources\n",
      "    assert system_num_cpus >= num_cpus\n",
      "AssertionError\n",
      "Fitting model: ExtraTreesMSE ...\n",
      "\t-3.0434\t = Validation score   (-root_mean_squared_error)\n",
      "\t2.67s\t = Training   runtime\n",
      "\t0.08s\t = Validation runtime\n",
      "Fitting model: NeuralNetFastAI ...\n",
      "\tWarning: Exception caused NeuralNetFastAI to fail during training... Skipping this model.\n",
      "\t\t\n",
      "Detailed Traceback:\n",
      "Traceback (most recent call last):\n",
      "  File \"/home/work/.local/lib/python3.8/site-packages/autogluon/core/trainer/abstract_trainer.py\", line 1502, in _train_and_save\n",
      "    model = self._train_single(X, y, model, X_val, y_val, total_resources=total_resources, **model_fit_kwargs)\n",
      "  File \"/home/work/.local/lib/python3.8/site-packages/autogluon/core/trainer/abstract_trainer.py\", line 1447, in _train_single\n",
      "    model = model.fit(X=X, y=y, X_val=X_val, y_val=y_val, total_resources=total_resources, **model_fit_kwargs)\n",
      "  File \"/home/work/.local/lib/python3.8/site-packages/autogluon/core/models/abstract/abstract_model.py\", line 695, in fit\n",
      "    kwargs = self._preprocess_fit_args(**kwargs)\n",
      "  File \"/home/work/.local/lib/python3.8/site-packages/autogluon/core/models/abstract/abstract_model.py\", line 428, in _preprocess_fit_args\n",
      "    kwargs = self._preprocess_fit_resources(**kwargs)\n",
      "  File \"/home/work/.local/lib/python3.8/site-packages/autogluon/core/models/abstract/abstract_model.py\", line 593, in _preprocess_fit_resources\n",
      "    assert system_num_cpus >= num_cpus\n",
      "AssertionError\n",
      "Fitting model: XGBoost ...\n",
      "\tWarning: Exception caused XGBoost to fail during training... Skipping this model.\n",
      "\t\t\n",
      "Detailed Traceback:\n",
      "Traceback (most recent call last):\n",
      "  File \"/home/work/.local/lib/python3.8/site-packages/autogluon/core/trainer/abstract_trainer.py\", line 1502, in _train_and_save\n",
      "    model = self._train_single(X, y, model, X_val, y_val, total_resources=total_resources, **model_fit_kwargs)\n",
      "  File \"/home/work/.local/lib/python3.8/site-packages/autogluon/core/trainer/abstract_trainer.py\", line 1447, in _train_single\n",
      "    model = model.fit(X=X, y=y, X_val=X_val, y_val=y_val, total_resources=total_resources, **model_fit_kwargs)\n",
      "  File \"/home/work/.local/lib/python3.8/site-packages/autogluon/core/models/abstract/abstract_model.py\", line 695, in fit\n",
      "    kwargs = self._preprocess_fit_args(**kwargs)\n",
      "  File \"/home/work/.local/lib/python3.8/site-packages/autogluon/core/models/abstract/abstract_model.py\", line 428, in _preprocess_fit_args\n",
      "    kwargs = self._preprocess_fit_resources(**kwargs)\n",
      "  File \"/home/work/.local/lib/python3.8/site-packages/autogluon/core/models/abstract/abstract_model.py\", line 593, in _preprocess_fit_resources\n",
      "    assert system_num_cpus >= num_cpus\n",
      "AssertionError\n",
      "Fitting model: NeuralNetTorch ...\n",
      "\tWarning: Exception caused NeuralNetTorch to fail during training... Skipping this model.\n",
      "\t\t\n",
      "Detailed Traceback:\n",
      "Traceback (most recent call last):\n",
      "  File \"/home/work/.local/lib/python3.8/site-packages/autogluon/core/trainer/abstract_trainer.py\", line 1502, in _train_and_save\n",
      "    model = self._train_single(X, y, model, X_val, y_val, total_resources=total_resources, **model_fit_kwargs)\n",
      "  File \"/home/work/.local/lib/python3.8/site-packages/autogluon/core/trainer/abstract_trainer.py\", line 1447, in _train_single\n",
      "    model = model.fit(X=X, y=y, X_val=X_val, y_val=y_val, total_resources=total_resources, **model_fit_kwargs)\n",
      "  File \"/home/work/.local/lib/python3.8/site-packages/autogluon/core/models/abstract/abstract_model.py\", line 695, in fit\n",
      "    kwargs = self._preprocess_fit_args(**kwargs)\n",
      "  File \"/home/work/.local/lib/python3.8/site-packages/autogluon/core/models/abstract/abstract_model.py\", line 428, in _preprocess_fit_args\n",
      "    kwargs = self._preprocess_fit_resources(**kwargs)\n",
      "  File \"/home/work/.local/lib/python3.8/site-packages/autogluon/core/models/abstract/abstract_model.py\", line 593, in _preprocess_fit_resources\n",
      "    assert system_num_cpus >= num_cpus\n",
      "AssertionError\n",
      "Fitting model: LightGBMLarge ...\n",
      "\tWarning: Exception caused LightGBMLarge to fail during training... Skipping this model.\n",
      "\t\t\n",
      "Detailed Traceback:\n",
      "Traceback (most recent call last):\n",
      "  File \"/home/work/.local/lib/python3.8/site-packages/autogluon/core/trainer/abstract_trainer.py\", line 1502, in _train_and_save\n",
      "    model = self._train_single(X, y, model, X_val, y_val, total_resources=total_resources, **model_fit_kwargs)\n",
      "  File \"/home/work/.local/lib/python3.8/site-packages/autogluon/core/trainer/abstract_trainer.py\", line 1447, in _train_single\n",
      "    model = model.fit(X=X, y=y, X_val=X_val, y_val=y_val, total_resources=total_resources, **model_fit_kwargs)\n",
      "  File \"/home/work/.local/lib/python3.8/site-packages/autogluon/core/models/abstract/abstract_model.py\", line 695, in fit\n",
      "    kwargs = self._preprocess_fit_args(**kwargs)\n",
      "  File \"/home/work/.local/lib/python3.8/site-packages/autogluon/core/models/abstract/abstract_model.py\", line 428, in _preprocess_fit_args\n",
      "    kwargs = self._preprocess_fit_resources(**kwargs)\n",
      "  File \"/home/work/.local/lib/python3.8/site-packages/autogluon/core/models/abstract/abstract_model.py\", line 593, in _preprocess_fit_resources\n",
      "    assert system_num_cpus >= num_cpus\n",
      "AssertionError\n",
      "Fitting model: WeightedEnsemble_L2 ...\n",
      "\t-2.9365\t = Validation score   (-root_mean_squared_error)\n",
      "\t0.18s\t = Training   runtime\n",
      "\t0.0s\t = Validation runtime\n",
      "AutoGluon training complete, total runtime = 18.72s ... Best model: \"WeightedEnsemble_L2\"\n",
      "TabularPredictor saved. To load, use: predictor = TabularPredictor.load(\"AutogluonModels/ag-20230413_112947/\")\n"
     ]
    },
    {
     "data": {
      "text/plain": [
       "<autogluon.tabular.predictor.predictor.TabularPredictor at 0x7fc83a4920a0>"
      ]
     },
     "execution_count": 71,
     "metadata": {},
     "output_type": "execute_result"
    }
   ],
   "source": [
    "from autogluon.tabular import TabularPredictor\n",
    "autogluon_automl = TabularPredictor(label='Calories_Burned', problem_type='regression', eval_metric='root_mean_squared_error')\n",
    "autogluon_automl.fit(train_data=train)\n"
   ]
  },
  {
   "cell_type": "code",
   "execution_count": 72,
   "id": "7d34c920",
   "metadata": {},
   "outputs": [
    {
     "name": "stdout",
     "output_type": "stream",
     "text": [
      "                 model  score_val  pred_time_val  fit_time  pred_time_val_marginal  fit_time_marginal  stack_level  can_infer  fit_order\n",
      "0  WeightedEnsemble_L2  -2.936536       0.217114  9.183968                0.000690           0.177713            2       True          5\n",
      "1        ExtraTreesMSE  -3.043439       0.076009  2.667399                0.076009           2.667399            1       True          4\n",
      "2      RandomForestMSE  -3.357543       0.112067  3.894493                0.112067           3.894493            1       True          3\n",
      "3       KNeighborsDist  -8.883149       0.014862  1.177875                0.014862           1.177875            1       True          2\n",
      "4       KNeighborsUnif  -9.153526       0.013486  1.266489                0.013486           1.266489            1       True          1\n"
     ]
    },
    {
     "data": {
      "text/html": [
       "<div>\n",
       "<style scoped>\n",
       "    .dataframe tbody tr th:only-of-type {\n",
       "        vertical-align: middle;\n",
       "    }\n",
       "\n",
       "    .dataframe tbody tr th {\n",
       "        vertical-align: top;\n",
       "    }\n",
       "\n",
       "    .dataframe thead th {\n",
       "        text-align: right;\n",
       "    }\n",
       "</style>\n",
       "<table border=\"1\" class=\"dataframe\">\n",
       "  <thead>\n",
       "    <tr style=\"text-align: right;\">\n",
       "      <th></th>\n",
       "      <th>model</th>\n",
       "      <th>score_val</th>\n",
       "      <th>pred_time_val</th>\n",
       "      <th>fit_time</th>\n",
       "      <th>pred_time_val_marginal</th>\n",
       "      <th>fit_time_marginal</th>\n",
       "      <th>stack_level</th>\n",
       "      <th>can_infer</th>\n",
       "      <th>fit_order</th>\n",
       "    </tr>\n",
       "  </thead>\n",
       "  <tbody>\n",
       "    <tr>\n",
       "      <th>0</th>\n",
       "      <td>WeightedEnsemble_L2</td>\n",
       "      <td>-2.936536</td>\n",
       "      <td>0.217114</td>\n",
       "      <td>9.183968</td>\n",
       "      <td>0.000690</td>\n",
       "      <td>0.177713</td>\n",
       "      <td>2</td>\n",
       "      <td>True</td>\n",
       "      <td>5</td>\n",
       "    </tr>\n",
       "    <tr>\n",
       "      <th>1</th>\n",
       "      <td>ExtraTreesMSE</td>\n",
       "      <td>-3.043439</td>\n",
       "      <td>0.076009</td>\n",
       "      <td>2.667399</td>\n",
       "      <td>0.076009</td>\n",
       "      <td>2.667399</td>\n",
       "      <td>1</td>\n",
       "      <td>True</td>\n",
       "      <td>4</td>\n",
       "    </tr>\n",
       "    <tr>\n",
       "      <th>2</th>\n",
       "      <td>RandomForestMSE</td>\n",
       "      <td>-3.357543</td>\n",
       "      <td>0.112067</td>\n",
       "      <td>3.894493</td>\n",
       "      <td>0.112067</td>\n",
       "      <td>3.894493</td>\n",
       "      <td>1</td>\n",
       "      <td>True</td>\n",
       "      <td>3</td>\n",
       "    </tr>\n",
       "    <tr>\n",
       "      <th>3</th>\n",
       "      <td>KNeighborsDist</td>\n",
       "      <td>-8.883149</td>\n",
       "      <td>0.014862</td>\n",
       "      <td>1.177875</td>\n",
       "      <td>0.014862</td>\n",
       "      <td>1.177875</td>\n",
       "      <td>1</td>\n",
       "      <td>True</td>\n",
       "      <td>2</td>\n",
       "    </tr>\n",
       "    <tr>\n",
       "      <th>4</th>\n",
       "      <td>KNeighborsUnif</td>\n",
       "      <td>-9.153526</td>\n",
       "      <td>0.013486</td>\n",
       "      <td>1.266489</td>\n",
       "      <td>0.013486</td>\n",
       "      <td>1.266489</td>\n",
       "      <td>1</td>\n",
       "      <td>True</td>\n",
       "      <td>1</td>\n",
       "    </tr>\n",
       "  </tbody>\n",
       "</table>\n",
       "</div>"
      ],
      "text/plain": [
       "                 model  score_val  pred_time_val  fit_time  \\\n",
       "0  WeightedEnsemble_L2  -2.936536       0.217114  9.183968   \n",
       "1        ExtraTreesMSE  -3.043439       0.076009  2.667399   \n",
       "2      RandomForestMSE  -3.357543       0.112067  3.894493   \n",
       "3       KNeighborsDist  -8.883149       0.014862  1.177875   \n",
       "4       KNeighborsUnif  -9.153526       0.013486  1.266489   \n",
       "\n",
       "   pred_time_val_marginal  fit_time_marginal  stack_level  can_infer  \\\n",
       "0                0.000690           0.177713            2       True   \n",
       "1                0.076009           2.667399            1       True   \n",
       "2                0.112067           3.894493            1       True   \n",
       "3                0.014862           1.177875            1       True   \n",
       "4                0.013486           1.266489            1       True   \n",
       "\n",
       "   fit_order  \n",
       "0          5  \n",
       "1          4  \n",
       "2          3  \n",
       "3          2  \n",
       "4          1  "
      ]
     },
     "execution_count": 72,
     "metadata": {},
     "output_type": "execute_result"
    }
   ],
   "source": [
    "autogluon_automl.leaderboard()"
   ]
  },
  {
   "cell_type": "code",
   "execution_count": 73,
   "id": "4b23b247",
   "metadata": {},
   "outputs": [
    {
     "data": {
      "text/plain": [
       "<AxesSubplot:>"
      ]
     },
     "execution_count": 73,
     "metadata": {},
     "output_type": "execute_result"
    },
    {
     "data": {
      "image/png": "[encoded data removed]",
      "text/plain": [
       "<Figure size 720x360 with 1 Axes>"
      ]
     },
     "metadata": {
      "needs_background": "light"
     },
     "output_type": "display_data"
    }
   ],
   "source": [
    "y_pred = autogluon_automl.predict(test)\n",
    "autogluon_compare = pd.DataFrame(data={'actual': train['Calories_Burned'], 'predicted': y_pred})\n",
    "autogluon_compare.plot(figsize=(10, 5))\n"
   ]
  },
  {
   "cell_type": "markdown",
   "id": "4b2f9719",
   "metadata": {},
   "source": [
    "## 머신러닝 - Catboost "
   ]
  },
  {
   "cell_type": "code",
   "execution_count": 116,
   "id": "c7ed93bd",
   "metadata": {},
   "outputs": [],
   "source": [
    "from catboost import CatBoostRegressor\n",
    "catb = CatBoostRegressor(\n",
    "         loss_function='RMSE',\n",
    "         n_estimators=500, \n",
    "         learning_rate=0.05, \n",
    "         random_state=42\n",
    ")\n",
    "    \n"
   ]
  },
  {
   "cell_type": "code",
   "execution_count": 117,
   "id": "fafd8ad4",
   "metadata": {},
   "outputs": [
    {
     "name": "stdout",
     "output_type": "stream",
     "text": [
      "0:\tlearn: 59.9779679\ttotal: 1.85ms\tremaining: 922ms\n",
      "100:\tlearn: 3.6514417\ttotal: 166ms\tremaining: 658ms\n",
      "200:\tlearn: 2.1398073\ttotal: 314ms\tremaining: 467ms\n",
      "300:\tlearn: 1.5370821\ttotal: 456ms\tremaining: 302ms\n",
      "400:\tlearn: 1.2203612\ttotal: 581ms\tremaining: 143ms\n",
      "499:\tlearn: 1.0175995\ttotal: 706ms\tremaining: 0us\n"
     ]
    },
    {
     "data": {
      "text/plain": [
       "<catboost.core.CatBoostRegressor at 0x7fc80b974b50>"
      ]
     },
     "execution_count": 117,
     "metadata": {},
     "output_type": "execute_result"
    }
   ],
   "source": [
    "catb.fit(train.drop(columns=['Calories_Burned']), train['Calories_Burned'], verbose=100)\n"
   ]
  },
  {
   "cell_type": "code",
   "execution_count": 118,
   "id": "c6c237f7",
   "metadata": {},
   "outputs": [],
   "source": [
    "y_pred = catb.predict(test)"
   ]
  },
  {
   "cell_type": "code",
   "execution_count": 119,
   "id": "c5fd21e2",
   "metadata": {},
   "outputs": [],
   "source": [
    "submission['Calories_Burned'] = y_pred\n",
    "submission = submission.set_index('ID')"
   ]
  },
  {
   "cell_type": "code",
   "execution_count": 120,
   "id": "89175db0",
   "metadata": {},
   "outputs": [],
   "source": [
    "submission.to_csv('the_calorie_catboost.csv')"
   ]
  },
  {
   "cell_type": "code",
   "execution_count": null,
   "id": "3ac8b0af",
   "metadata": {},
   "outputs": [],
   "source": []
  }
 ],
 "metadata": {
  "kernelspec": {
   "display_name": "TensorFlow 2.7 on Python 3.8 & CUDA 11.3",
   "language": "python",
   "name": "python3"
  },
  "language_info": {
   "codemirror_mode": {
    "name": "ipython",
    "version": 3
   },
   "file_extension": ".py",
   "mimetype": "text/x-python",
   "name": "python",
   "nbconvert_exporter": "python",
   "pygments_lexer": "ipython3",
   "version": "3.8.10"
  },
  "toc": {
   "base_numbering": 1,
   "nav_menu": {},
   "number_sections": true,
   "sideBar": true,
   "skip_h1_title": false,
   "title_cell": "Table of Contents",
   "title_sidebar": "Contents",
   "toc_cell": false,
   "toc_position": {},
   "toc_section_display": true,
   "toc_window_display": false
  }
 },
 "nbformat": 4,
 "nbformat_minor": 5
}
